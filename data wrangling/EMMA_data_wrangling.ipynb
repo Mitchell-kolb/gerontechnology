{
 "cells": [
  {
   "cell_type": "code",
   "execution_count": 122,
   "id": "b415ceaa",
   "metadata": {},
   "outputs": [],
   "source": [
    "#Grab in the specific helper libraries we would like\n",
    "\n",
    "#notes, non-filtering by ID, push to csv\n",
    "import pandas as pd\n",
    "import numpy as np\n",
    "import os\n",
    "from datetime import datetime\n",
    "import csv\n"
   ]
  },
  {
   "cell_type": "code",
   "execution_count": 1,
   "id": "d900d6b1",
   "metadata": {},
   "outputs": [
    {
     "name": "stdout",
     "output_type": "stream",
     "text": [
      "c:\\dev\\Gerontechnology\\data wrangling\n"
     ]
    }
   ],
   "source": [
    "#make sure we \n",
    "print(os.getcwd())"
   ]
  },
  {
   "cell_type": "code",
   "execution_count": 124,
   "id": "9a1bddee",
   "metadata": {},
   "outputs": [
    {
     "name": "stderr",
     "output_type": "stream",
     "text": [
      "C:\\Users\\sl1mc\\AppData\\Local\\Temp\\ipykernel_23516\\1080294452.py:1: DtypeWarning: Columns (2,6,10,14,18,22,26,30,34,38,42,46,50,54,58,66,70,74,78,82,86,90,94,98,102,106,110,114,118,122,126,130,134,138,142,146,150,154,158,162,166,170,174,178,182,186,190,194,198,202,206,210,214,218,222,226,230,234,238,242,246,250,254,258,262,266,270) have mixed types. Specify dtype option on import or set low_memory=False.\n",
      "  df = pd.read_csv(\"./Documents/GitHub/hydraGAN_code_time_series/all_data.csv\")\n"
     ]
    }
   ],
   "source": [
    "df = pd.read_csv(\"./Documents/GitHub/hydraGAN_code_time_series/all_data.csv\")\n",
    "df = df.loc[:, ~df.columns.str.contains('^Unnamed')]"
   ]
  },
  {
   "cell_type": "code",
   "execution_count": 125,
   "id": "27fcffb6",
   "metadata": {},
   "outputs": [
    {
     "name": "stdout",
     "output_type": "stream",
     "text": [
      "1645610040\n"
     ]
    }
   ],
   "source": [
    "\n",
    "d_str = '1/4/2022 9:54'\n",
    "def conv_t_hard(d_str):\n",
    "    #print(d_str)\n",
    "    #date,other = d_str.split('  ')\n",
    "    date,curr_time = d_str.split(' ')\n",
    "    #curr_time, ampm = other.split(' ')\n",
    "    month,day,year = date.split('/')\n",
    "    month = int(month)\n",
    "    year = int(year)\n",
    "    day = int(day)\n",
    "    hour,minute = curr_time.split(':')\n",
    "    hour = int(hour)\n",
    "    minute = int(minute)\n",
    "    j = 0\n",
    "    month_secs = 0\n",
    "    while j <= month:\n",
    "        if(j == 2):\n",
    "            month_secs += 2419200\n",
    "        elif(j == 4 or j == 6 or j == 9 or j == 11):\n",
    "            month_secs += 2592000\n",
    "        else:\n",
    "            month_secs += 2678400\n",
    "        j += 1\n",
    "    secs = (year-1970)*31536000 + month_secs + day*24*60*60 + hour*60*60 + minute*60\n",
    "    return(secs)\n",
    "out = conv_t_hard(d_str)\n",
    "print(out)"
   ]
  },
  {
   "cell_type": "code",
   "execution_count": 126,
   "id": "a23cc296",
   "metadata": {},
   "outputs": [
    {
     "name": "stdout",
     "output_type": "stream",
     "text": [
      "236460\n"
     ]
    }
   ],
   "source": [
    "def conv_time(t_string, day):\n",
    "    #print(t_string)\n",
    "    time,dmark = t_string.split(' ')\n",
    "    hour,minutes = time.split(':')\n",
    "    offset = 0\n",
    "    if(dmark == 'PM'):\n",
    "        offset += 12*60*60\n",
    "    secs = 60*60*int(hour) + 60*int(minutes) + offset +int(day)*24*60*60\n",
    "    return(secs)\n",
    "sec = conv_time('5:41 PM', 2)\n",
    "print(sec)\n",
    "    "
   ]
  },
  {
   "cell_type": "code",
   "execution_count": 127,
   "id": "4d44b523",
   "metadata": {},
   "outputs": [],
   "source": [
    "def cal_by_day(day, sec_gap, parc_time, parc_occur,df):\n",
    "    '''\n",
    "    we want two dicts: one that holds the last occurance of each participant,\n",
    "    and one that holds the number of times a gap of size n secs has occured\n",
    "    '''\n",
    "    ids = df['participantId_'+str(day)].dropna()\n",
    "    times = df['Time_'+str(day)].dropna()\n",
    "    i = 0\n",
    "    for rows in ids:\n",
    "        curr_id = ids[i]\n",
    "        curr_time = times[i]\n",
    "\n",
    "        if curr_id in parc_time.keys():\n",
    "            old_time = parc_time.get(curr_id)\n",
    "            new_time = times[i]\n",
    "            new_secs = conv_time(new_time, day)\n",
    "            if(new_secs - old_time >= sec_gap):\n",
    "                if curr_id in parc_occur:\n",
    "                    curr_count = parc_occur.get(curr_id)\n",
    "                    parc_occur.update({curr_id:curr_count+1})\n",
    "                else:\n",
    "                    parc_occur.update({curr_id:1})\n",
    "            parc_time.update({curr_id:new_secs})\n",
    "        else:\n",
    "            new_time = times[i]\n",
    "            new_secs = conv_time(new_time, day)\n",
    "            parc_time.update({curr_id:new_secs})\n",
    "\n",
    "        i += 1\n",
    "    return(parc_time, parc_occur)"
   ]
  },
  {
   "cell_type": "code",
   "execution_count": 128,
   "id": "e7ce7a48",
   "metadata": {},
   "outputs": [
    {
     "name": "stdout",
     "output_type": "stream",
     "text": [
      "0      10:47 AM\n",
      "1      10:47 AM\n",
      "2      10:56 AM\n",
      "3      10:56 AM\n",
      "4      10:56 AM\n",
      "         ...   \n",
      "875    10:57 AM\n",
      "876    10:58 AM\n",
      "877    10:58 AM\n",
      "878    10:58 AM\n",
      "879    10:58 AM\n",
      "Name: Time_3, Length: 880, dtype: object\n"
     ]
    }
   ],
   "source": [
    "print(df[\"Time_3\"].dropna())"
   ]
  },
  {
   "cell_type": "code",
   "execution_count": 129,
   "id": "02b37fe8",
   "metadata": {},
   "outputs": [],
   "source": [
    "day = 20\n",
    "sec_gap = 200\n",
    "end_day = 23\n",
    "parc_ids = [95,106] #the ids we actually care about, leave empty if we want all\n",
    "event_ids = []\n",
    "\n",
    "parc_time = {}\n",
    "parc_occur = {}\n",
    "\n",
    "while day <= end_day:\n",
    "    parc_time, parc_occur = cal_by_day(day, sec_gap, parc_time, parc_occur, df)\n",
    "    if(len(parc_ids) == 0):\n",
    "        print(\"----------------------------\")\n",
    "        print(\"----------------------------\")\n",
    "        print(\"For Day:\" + str(day))\n",
    "        print(\"Times are:\")\n",
    "        print(parc_time)\n",
    "\n",
    "        print(\"Occurrences are:\")\n",
    "        print(parc_occur)\n",
    "\n",
    "        print(\"----------------------------\")\n",
    "        print(\"----------------------------\")\n",
    "        \n",
    "    day += 1\n",
    "    \n"
   ]
  },
  {
   "cell_type": "code",
   "execution_count": 130,
   "id": "3fdfa0a5",
   "metadata": {},
   "outputs": [
    {
     "name": "stdout",
     "output_type": "stream",
     "text": [
      "Number of unique occurences:\n",
      "95\n",
      "Number of unique occurences:\n",
      "106\n"
     ]
    }
   ],
   "source": [
    "for p in parc_ids:\n",
    "    print(\"Number of unique occurences:\")\n",
    "    occ = parc_occur.get(p)\n",
    "    print(p)"
   ]
  },
  {
   "cell_type": "code",
   "execution_count": 131,
   "id": "91e2936e",
   "metadata": {},
   "outputs": [],
   "source": [
    "df_long = pd.read_csv('./Documents/GitHub/hydraGAN_code_time_series/all_long.csv')"
   ]
  },
  {
   "cell_type": "code",
   "execution_count": 132,
   "id": "0f781c08",
   "metadata": {},
   "outputs": [],
   "source": [
    "def break_by_day(d_str,curr_day):\n",
    "    month,day,dontcare = d_str.split('/')\n",
    "    if(int(day)!= curr_day):\n",
    "        return(1)\n",
    "    return(0)\n",
    "def get_current_day(d_str):\n",
    "    #print(d_str)\n",
    "    month,day,dontcare = d_str.split('/')\n",
    "    return(int(day))\n",
    "\n",
    "def cal_by_day_single(day, sec_gap, parc_time, parc_occur,df,el_ids,curr_day):\n",
    "    '''\n",
    "    we want two dicts: one that holds the last occurance of each participant,\n",
    "    and one that holds the number of times a gap of size n secs has occured\n",
    "    '''\n",
    "    ids = df['participantId'].dropna()\n",
    "    times = df['timestamp_local'].dropna()\n",
    "    i = 0\n",
    "    for rows in ids:\n",
    "        curr_id = ids[i]\n",
    "        curr_time = times[i]\n",
    "\n",
    "        if curr_id in parc_time.keys():\n",
    "            old_time = parc_time.get(curr_id)\n",
    "            new_time = times[i]\n",
    "            new_secs = conv_t_hard(new_time)\n",
    "            if(new_secs - old_time >= sec_gap):\n",
    "                if curr_id in parc_occur:\n",
    "                    if(len(el_ids) == 0 or df['elementId'][i] in el_ids):\n",
    "                        curr_count = parc_occur.get(curr_id)\n",
    "                        parc_occur.update({curr_id:curr_count+1})\n",
    "                else:\n",
    "                    parc_occur.update({curr_id:1})\n",
    "            parc_time.update({curr_id:new_secs})\n",
    "        else:\n",
    "            new_time = times[i]\n",
    "            new_secs = conv_t_hard(new_time)\n",
    "            parc_time.update({curr_id:new_secs})\n",
    "\n",
    "        i += 1\n",
    "    return(parc_time, parc_occur)"
   ]
  },
  {
   "cell_type": "code",
   "execution_count": 133,
   "id": "e43f2ddd",
   "metadata": {},
   "outputs": [
    {
     "name": "stdout",
     "output_type": "stream",
     "text": [
      "    interactionId participantId elementId  timestamp_local  \\\n",
      "225           226            48       263  10/18/2021 9:13   \n",
      "226           227            48         8  10/18/2021 9:13   \n",
      "227           228            48         3  10/18/2021 9:13   \n",
      "\n",
      "    timestamp_utcoffset interaction token type  \n",
      "225                -700         tap   NaN  NaN  \n",
      "226                -700         tap   NaN  NaN  \n",
      "227                -700     present   NaN  NaN  \n"
     ]
    }
   ],
   "source": [
    "def filter_df_to_correct_days(df, first_day, end_day):\n",
    "    #print(df.loc[0, 'timestamp_local'])\n",
    "    \n",
    "    new_df = pd.DataFrame()\n",
    "    #new_df.columns = df.columns\n",
    "    f_day = df.loc[0, 'timestamp_local']\n",
    "    current_date = get_current_day(f_day)\n",
    "    curr_d_index = 1\n",
    "    i = 0\n",
    "    while i < df.shape[0]:\n",
    "        new_date = get_current_day(df.loc[i, 'timestamp_local'])\n",
    "        if(new_date != current_date):\n",
    "            curr_d_index += 1\n",
    "            current_date = new_date \n",
    "        #print(curr_d_index, first_day)\n",
    "        if(int(curr_d_index) >= first_day and int(curr_d_index) <= end_day):\n",
    "            #new_df.append(df.loc[i])\n",
    "            new_df = pd.concat([new_df, df.loc[i]],axis=1)\n",
    "        i += 1\n",
    "    return(new_df.T)\n",
    "    \n",
    "new_df = filter_df_to_correct_days(df_long, 3,4)\n",
    "#print(df_long.shape)\n",
    "print(new_df.head(3))"
   ]
  },
  {
   "cell_type": "code",
   "execution_count": 134,
   "id": "d2c817e6",
   "metadata": {},
   "outputs": [],
   "source": [
    "#put access calculations here:\n",
    "    "
   ]
  },
  {
   "cell_type": "code",
   "execution_count": 148,
   "id": "e0190fb1",
   "metadata": {},
   "outputs": [
    {
     "name": "stdout",
     "output_type": "stream",
     "text": [
      "----------------------------\n",
      "----------------------------\n",
      "Times are:\n",
      "Occurrences are:\n",
      "{48: 14, 75: 1}\n",
      "----------------------------\n",
      "----------------------------\n"
     ]
    }
   ],
   "source": [
    "df_long = pd.read_csv('./Documents/GitHub/hydraGAN_code_time_series/all_long.csv') #Put the path to the csv you care about here\n",
    "start_day = 1 # day to start\n",
    "sec_gap = 20 #how many seconds between interactions before we care about it\n",
    "end_day = 2 #day to end\n",
    "parc_ids = [] #the ids we actually care about, leave empty if we want all\n",
    "elem_ids = [] #the elements we want, leave blank if we want all\n",
    "\n",
    "parc_time = {}\n",
    "parc_occur = {}\n",
    "\n",
    "'''\n",
    "filter by day starting day\n",
    "\n",
    "dict to csv (locally)\n",
    "'''\n",
    "#curr_day = get_current_day(df_long['timestamp_local'][0])\n",
    "\n",
    "#print(\"We are starting on day:\", curr_day)\n",
    "df_long = filter_df_to_correct_days(df_long,start_day,end_day)\n",
    "\n",
    "\n",
    "parc_time, parc_occur = cal_by_day_single(day, sec_gap, parc_time, parc_occur, df_long,elem_ids, curr_day)\n",
    "if(len(parc_ids) == 0):\n",
    "    print(\"----------------------------\")\n",
    "    print(\"----------------------------\")\n",
    "    #print(\"For Day:\" + str(day))\n",
    "    print(\"Times are:\")\n",
    "    #print(parc_time)\n",
    "\n",
    "    print(\"Occurrences are:\")\n",
    "    print(parc_occur)\n",
    "\n",
    "    print(\"----------------------------\")\n",
    "    print(\"----------------------------\")\n",
    "       "
   ]
  },
  {
   "cell_type": "code",
   "execution_count": 147,
   "id": "8998a14d",
   "metadata": {},
   "outputs": [
    {
     "name": "stdout",
     "output_type": "stream",
     "text": [
      "48 14\n",
      "75 1\n"
     ]
    }
   ],
   "source": [
    "with open('./output.csv', 'w') as csvfile:\n",
    "    csvwriter = csv.writer(csvfile) \n",
    "    csvwriter.writerow(['Participant', 'Count'])\n",
    "    for key,value in parc_occur.items():\n",
    "        print(key,value)\n",
    "        csvwriter.writerow([key, value])"
   ]
  },
  {
   "cell_type": "code",
   "execution_count": null,
   "id": "8d19a51a",
   "metadata": {},
   "outputs": [],
   "source": []
  },
  {
   "cell_type": "code",
   "execution_count": null,
   "id": "400cc6ff",
   "metadata": {},
   "outputs": [],
   "source": []
  },
  {
   "cell_type": "code",
   "execution_count": null,
   "id": "91ffd316",
   "metadata": {},
   "outputs": [],
   "source": []
  }
 ],
 "metadata": {
  "kernelspec": {
   "display_name": "Python 3.10.7 64-bit",
   "language": "python",
   "name": "python3"
  },
  "language_info": {
   "codemirror_mode": {
    "name": "ipython",
    "version": 3
   },
   "file_extension": ".py",
   "mimetype": "text/x-python",
   "name": "python",
   "nbconvert_exporter": "python",
   "pygments_lexer": "ipython3",
   "version": "3.10.7"
  },
  "vscode": {
   "interpreter": {
    "hash": "e103691567e4ddce5972f9ef292c473f85cc6b67cbb8b1f014bd2975fa0d78f9"
   }
  }
 },
 "nbformat": 4,
 "nbformat_minor": 5
}
